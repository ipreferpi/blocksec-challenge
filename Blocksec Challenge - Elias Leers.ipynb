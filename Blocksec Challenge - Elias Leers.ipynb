{
 "cells": [
  {
   "cell_type": "markdown",
   "metadata": {
    "pycharm": {
     "name": "#%% md\n"
    }
   },
   "source": [
    "# Blocksec Challenge - Elias Leers\n",
    "\n",
    "This exercise asks you to investigate a quintessential blocksec incident: a 51% attack.\n",
    "\n",
    "You may know a lot about what this attack is, you may know very little.\n",
    "Regardless, you'll need to figure it out.\n",
    "Blocksec is on the cutting edge of cryptocurrency security -- no one on the team is expected to know everything,\n",
    "and everyone on the team is expected to be able to learn continuously and investigate new issues,\n",
    "building out their own new knowledge as well as clearly communicating what they've learned to their teammates.\n",
    "\n",
    "If you need to learn more about 51% attacks, try these resources:\n",
    "\n",
    "* https://en.bitcoin.it/wiki/Majority_attack\n",
    "* https://blog.coinbase.com/ethereum-classic-etc-is-currently-being-51-attacked-33be13ce32de\n",
    "* https://www.youtube.com/watch?v=LlXst4zECcU&feature=youtu.be\n",
    "\n",
    "The file \"reorg_data.json\" contains an array of blocks.\n",
    "Each block is taken from the EthereumClassic (ETC) blockchain during or around a 51% attack.\n",
    "Blocks contain metadata along with a(possibly empty) array of transactions that are contained in the block.\n",
    "Transactions are structured as JSON objects where the human readable fields provide sufficient information to\n",
    "understand the content of the transaction for the purpose of this challenge.\n",
    "\n",
    "Your task is to write scripts in your language of choice to parse this data and answer the questions below.\n",
    "Please provide the code that you used to do this.\n",
    "\n",
    "If you see something in the data that you don’t understand, try searching online.\n",
    "A key tool in the blocksec arsenal is something called a block explorer -- one you could try for EthereumClassic is\n",
    "[blockscout.com](https://blockscout.com)."
   ]
  },
  {
   "cell_type": "markdown",
   "source": [
    "## Process the data\n",
    "### Data structuring\n",
    "\n",
    "I started by creating some classes to encapsulate the block data from the provided JSON file."
   ],
   "metadata": {
    "collapsed": false,
    "pycharm": {
     "name": "#%% md\n"
    }
   }
  },
  {
   "cell_type": "code",
   "execution_count": 1,
   "metadata": {
    "pycharm": {
     "name": "#%%\n"
    }
   },
   "outputs": [],
   "source": [
    "import json\n",
    "import datetime\n",
    "import math\n",
    "\n",
    "class Block:\n",
    "    def __init__(self, blockdict):\n",
    "        self.ticker = blockdict['ticker']\n",
    "        self.hash = blockdict['block_hash']\n",
    "        self.parent_hash = blockdict['parent_hash']\n",
    "        self.block_height = int(blockdict['block_height'])\n",
    "        self.time = int(blockdict['time'])\n",
    "        self.transaction_type = blockdict['transaction_type']\n",
    "        self.transactions = blockdict['transaction_objects']\n",
    "\n",
    "    def get_iso_time(self):\n",
    "        return datetime.datetime.fromtimestamp(self.time).isoformat()\n",
    "\n",
    "    def __str__(self):\n",
    "        return str(self.block_height)\n",
    "\n",
    "    def __repr__(self):\n",
    "        return str(self.block_height)\n",
    "\n",
    "class Chain:\n",
    "    def __init__(self):\n",
    "        self.baseNode = None\n",
    "        self.chain = []\n",
    "\n",
    "    def add_block(self, block):\n",
    "        if self.baseNode is None:\n",
    "            self.baseNode = block\n",
    "        elif block.parent_hash != self.chain[-1].hash and block.block_height != self.chain[-1].block_height + 1 :\n",
    "            raise ValueError\n",
    "        self.chain.append(block)\n",
    "\n",
    "    def replace_last_block(self, block):\n",
    "        del self.chain[-1]\n",
    "        self.add_block(block)\n",
    "\n",
    "    def has_faults(self):\n",
    "        hash_error, height_error = [False, False]\n",
    "        previous_hash, previous_height = [None, None]\n",
    "\n",
    "        for ublock in self.chain:\n",
    "            if previous_height is not None and ublock.block_height != previous_height + 1:\n",
    "                height_error = True\n",
    "                print(ublock.block_height, previous_height)\n",
    "            if previous_hash is not None and ublock.parent_hash != previous_hash:\n",
    "                hash_error = True\n",
    "                print(ublock.block_height)\n",
    "            previous_hash = ublock.hash\n",
    "            previous_height = ublock.block_height\n",
    "        return hash_error, height_error\n",
    "\n",
    "    def get_latest_block(self):\n",
    "        return self.chain[-1]\n",
    "\n",
    "    def get_latest_block_parent(self):\n",
    "        return self.chain[-2]\n",
    "\n",
    "    def get_chain(self):\n",
    "        return self.chain\n",
    "\n",
    "class Transaction:\n",
    "    def __init__(self, tx, block):\n",
    "        self.tx_to = tx['details']['to']\n",
    "        self.tx_from = tx['details']['from']\n",
    "        self.value = int(tx['details']['value'], 16) * math.pow(10, -18)\n",
    "        self.nonce = int(tx['details']['nonce'], 16)\n",
    "        self.txid = tx['txid']\n",
    "        self.block = block"
   ]
  },
  {
   "cell_type": "markdown",
   "source": [
    "### Parse the JSON\n",
    "\n",
    "Next, I parsed the blocks and stored them in 2 chains:\n",
    "\n",
    "* canon stores the version of the chain that includes the reorganization.\n",
    "* orphan stores the fork that got replaced by the attackers.\n",
    "\n",
    "I noticed that the dataset held duplicate blocks, so I created an offset to work with. I kept the rest just in case, but\n",
    "never ended up using them."
   ],
   "metadata": {
    "collapsed": false,
    "pycharm": {
     "name": "#%% md\n"
    }
   }
  },
  {
   "cell_type": "code",
   "execution_count": 2,
   "outputs": [],
   "source": [
    "with open('reorg_data.json') as f:\n",
    "    data = json.load(f)\n",
    "\n",
    "blocks = []\n",
    "for block in data:\n",
    "    blocks.append(Block(block))\n",
    "\n",
    "blocks.sort(key=lambda x: x.block_height)\n",
    "\n",
    "canon = Chain()\n",
    "orphan = Chain()\n",
    "orphan_started = None\n",
    "attack_start = None\n",
    "attack_end = None\n",
    "for block in blocks:\n",
    "    try:\n",
    "        canon.add_block(block)\n",
    "    except ValueError:\n",
    "        if orphan_started is None:\n",
    "            orphan_started = canon.get_latest_block_parent()\n",
    "            attack_start = len(canon.chain) -1\n",
    "        try:\n",
    "            orphan.add_block(canon.get_latest_block())\n",
    "            canon.replace_last_block(block)\n",
    "        except ValueError:\n",
    "            print('This should not happen.')\n",
    "        attack_end = len(canon.chain) -1"
   ],
   "metadata": {
    "collapsed": false,
    "pycharm": {
     "name": "#%%\n"
    }
   }
  },
  {
   "cell_type": "markdown",
   "source": [
    "### Data integrity check\n",
    "\n",
    "I added a function to the chain class to ensure that the proper blocks were inserted into the Canon chain.\n",
    "This checks that each block's `parent_hash` and `block_height` matches the previous block's `hash` and `block_height + 1`"
   ],
   "metadata": {
    "collapsed": false,
    "pycharm": {
     "name": "#%% md\n"
    }
   }
  },
  {
   "cell_type": "code",
   "execution_count": 3,
   "outputs": [
    {
     "name": "stdout",
     "output_type": "stream",
     "text": [
      "Canon has data faults: (False, False)\n",
      "Orphan has data faults: (False, False)\n"
     ]
    }
   ],
   "source": [
    "print('Canon has data faults: %s' % str(canon.has_faults()))\n",
    "print('Orphan has data faults: %s' % str(orphan.has_faults()))"
   ],
   "metadata": {
    "collapsed": false,
    "pycharm": {
     "name": "#%%\n"
    }
   }
  },
  {
   "cell_type": "markdown",
   "source": [
    "I then find the point on the canon chain where it forks from the orphan chain with an additional offset notated as\n",
    "`attack_actual_start_offset`."
   ],
   "metadata": {
    "collapsed": false,
    "pycharm": {
     "name": "#%% md\n"
    }
   }
  },
  {
   "cell_type": "code",
   "execution_count": 4,
   "outputs": [],
   "source": [
    "attack_actual_start_offset = 0\n",
    "for i in range(0, len(orphan.chain)):\n",
    "    a = canon.chain[attack_start + i]\n",
    "    b = orphan.chain[i]\n",
    "\n",
    "    if a.hash != b.hash:\n",
    "        attack_actual_start_offset = i\n",
    "        break"
   ],
   "metadata": {
    "collapsed": false,
    "pycharm": {
     "name": "#%%\n"
    }
   }
  },
  {
   "cell_type": "markdown",
   "metadata": {},
   "source": [
    "## Reorg Analysis\n",
    "\n",
    "### Briefly describe what happened.\n",
    "\n",
    "On 2020-08-05 at 04:50:20, an attacker secretly mined the first block of their attack chain (block 10935623).\n",
    "\n",
    "~15 hours later, after secretly mining ~4345-4352 blocks, they shared their work with the rest of the network.\n",
    "\n",
    "This orphaned the network's 4243 blocks (blocks 10935623 to 10939866), because the attack chain was ~102-109 blocks\n",
    "ahead of what the network had."
   ]
  },
  {
   "cell_type": "markdown",
   "metadata": {
    "pycharm": {
     "name": "#%% md\n"
    }
   },
   "source": [
    "### What is the highest block height that was orphaned? What is its block hash?\n",
    "\n",
    "This is the last block in the orphan chain."
   ]
  },
  {
   "cell_type": "code",
   "execution_count": 5,
   "outputs": [
    {
     "name": "stdout",
     "output_type": "stream",
     "text": [
      "The last orphaned block is: 10939866\n",
      "The last orphaned block's hash is: 0x955c4f106d1008b7fe0e8f32b3e811e3fc8272e4e03b05c326edb13097fa6678\n"
     ]
    }
   ],
   "source": [
    "last_orphan = orphan.chain[-1]\n",
    "print('The last orphaned block is: %s' % last_orphan)\n",
    "print(\"The last orphaned block's hash is: %s\" % last_orphan.hash)"
   ],
   "metadata": {
    "collapsed": false,
    "pycharm": {
     "name": "#%%\n"
    }
   }
  },
  {
   "cell_type": "markdown",
   "metadata": {},
   "source": [
    "### What block height was the last block that wasn't impacted by the reorg? (a.k.a. the \"common ancestor\" of the two chains.) What is its block hash?\n",
    "\n",
    "I determined this by finding the two Blocks that share a `block_height` and `parent_hash`, but have different `hash`."
   ]
  },
  {
   "cell_type": "code",
   "execution_count": 6,
   "metadata": {
    "pycharm": {
     "name": "#%%\n"
    }
   },
   "outputs": [
    {
     "name": "stdout",
     "output_type": "stream",
     "text": [
      "The common ancestor's block height is 10935622\n",
      "The common ancestor's hash is 0x092d1ea9e4e6a431f23e18feb72a4009df7df72955b24a14e4fc7d80bcd29cce\n"
     ]
    }
   ],
   "source": [
    "canon_attack_offset = attack_start + attack_actual_start_offset\n",
    "ancestor = canon.chain[canon_attack_offset - 1]\n",
    "orphan_first_block = orphan.chain[attack_actual_start_offset]\n",
    "canon_first_block = canon.chain[canon_attack_offset]\n",
    "\n",
    "orphan_first_block_ancestor_check = orphan_first_block.parent_hash == ancestor.hash\n",
    "canon_first_block_ancestor_check = canon_first_block.parent_hash == ancestor.hash\n",
    "\n",
    "chain_forks =  orphan_first_block.hash != canon_first_block.hash\n",
    "\n",
    "ancestor_valid = orphan_first_block_ancestor_check and canon_first_block_ancestor_check and chain_forks\n",
    "if ancestor_valid:\n",
    "    print(\"The common ancestor's block height is %s\" % ancestor)\n",
    "    print(\"The common ancestor's hash is %s\" % ancestor.hash)\n",
    "else:\n",
    "    print(\"This paper has a terrible error.\")"
   ]
  },
  {
   "cell_type": "markdown",
   "metadata": {
    "pycharm": {
     "name": "#%% md\n"
    }
   },
   "source": [
    "### How many blocks were orphaned?\n",
    "\n",
    "This is the difference between the heights of last orphaned block, and the first block of the attack chain."
   ]
  },
  {
   "cell_type": "code",
   "execution_count": 7,
   "metadata": {
    "pycharm": {
     "name": "#%%\n"
    }
   },
   "outputs": [
    {
     "name": "stdout",
     "output_type": "stream",
     "text": [
      "4243 blocks were orphaned.\n"
     ]
    }
   ],
   "source": [
    "orphan_last_block = orphan.chain[-1]\n",
    "total_orphaned = orphan_last_block.block_height - orphan_first_block.block_height\n",
    "print('%s blocks were orphaned.' % total_orphaned)"
   ]
  },
  {
   "cell_type": "markdown",
   "metadata": {},
   "source": [
    "### How many blocks did the attacker create?  How do you know?\n",
    "\n",
    "The first block the attackers created is the first block that was affected by the reorganization,\n",
    "i.e. the first attack chain block (`attacker_first_block`).\n",
    "\n",
    "Based on the dataset, I can't be sure if it includes more blocks that were mined after the reorg happened;\n",
    "but I can infer that the last guaranteed block the attackers created is the first block created with a date higher than the last orphaned block\n",
    "(`orphan_last_block`).\n",
    "\n",
    "Any blocks afterwards could have been mined by attackers, or by the network after the reorg, so this number could be slightly higher."
   ]
  },
  {
   "cell_type": "code",
   "execution_count": 8,
   "metadata": {
    "pycharm": {
     "name": "#%%\n"
    }
   },
   "outputs": [
    {
     "name": "stdout",
     "output_type": "stream",
     "text": [
      "First block of attack chain: 10935623\n",
      "Last block of attack chain:  10939968\n",
      "Total blocks guaranteed created by attacker:  4346\n",
      "Total blocks potentially created by attacker: 4353\n",
      "Blocks above orphaned chain: 102 to 109 \n"
     ]
    }
   ],
   "source": [
    "attacker_first_block = canon.chain[canon_attack_offset]\n",
    "\n",
    "attacker_last_block = None\n",
    "for b in canon.chain:\n",
    "    if b.time > orphan_last_block.time:\n",
    "        attacker_last_block = b\n",
    "        break\n",
    "\n",
    "attacker_last_potential_block = canon.chain[-1]\n",
    "\n",
    "# add 1 for inclusivity\n",
    "total_blocks_created = attacker_last_block.block_height - attacker_first_block.block_height + 1\n",
    "total_potential_blocks_created = attacker_last_potential_block.block_height - attacker_first_block.block_height + 1\n",
    "\n",
    "extra_blocks_created = attacker_last_block.block_height - orphan_last_block.block_height + 1\n",
    "extra_potential_blocks_created = attacker_last_potential_block.block_height - orphan_last_block.block_height + 1\n",
    "\n",
    "print(\"First block of attack chain: %s\" % attacker_first_block)\n",
    "print(\"Last block of attack chain:  %s\" % attacker_last_block)\n",
    "print('Total blocks guaranteed created by attacker:  %s' % total_blocks_created)\n",
    "print('Total blocks potentially created by attacker: %s' % total_potential_blocks_created)\n",
    "print('Blocks above orphaned chain: %s to %s ' % (extra_blocks_created, extra_potential_blocks_created))"
   ]
  },
  {
   "cell_type": "markdown",
   "metadata": {
    "pycharm": {
     "name": "#%% md\n"
    }
   },
   "source": [
    "### Can you estimate how long the attacker was mining the attack chain?  How do you know?\n",
    "\n",
    "We have two potential methods:\n",
    "\n",
    "* Ethereum Classic's block time is ~15 seconds.\n",
    "If I multiply the number of attacker created blocks by 15 seconds, I can get a rough estimate.\n",
    "\n",
    "* The other option is a little more accurate.\n",
    "It appears that the attacker didn't spoof the block mining times,\n",
    "so I can just calculate the offset between the start and end times of the attack."
   ]
  },
  {
   "cell_type": "code",
   "execution_count": 9,
   "metadata": {
    "pycharm": {
     "name": "#%%\n"
    }
   },
   "outputs": [
    {
     "name": "stdout",
     "output_type": "stream",
     "text": [
      "The attack started at: 2020-08-05T04:50:20\n",
      "The attack ended at:  2020-08-05T20:14:15\n",
      "The attack's estimated duration time was:\n",
      " - Block number calculation: 18:06:30\n",
      " - Block time calculation:   15:23:55\n"
     ]
    }
   ],
   "source": [
    "start = canon.chain[canon_attack_offset]\n",
    "end = orphan.chain[-1]\n",
    "\n",
    "block_number_delta = datetime.timedelta(seconds=total_blocks_created * 15)\n",
    "block_time_delta = datetime.timedelta(seconds=end.time - start.time)\n",
    "\n",
    "print('The attack started at: %s' % start.get_iso_time())\n",
    "print('The attack ended at:  %s' % end.get_iso_time())\n",
    "\n",
    "print(\"The attack's estimated duration time was:\")\n",
    "\n",
    "print(\" - Block number calculation: %s\" % block_number_delta)\n",
    "print(\" - Block time calculation:   %s\" % block_time_delta)"
   ]
  },
  {
   "cell_type": "markdown",
   "source": [
    "## Double spend analysis"
   ],
   "metadata": {
    "collapsed": false,
    "pycharm": {
     "name": "#%% md\n"
    }
   }
  },
  {
   "cell_type": "markdown",
   "source": [
    "### Process the transactions"
   ],
   "metadata": {
    "collapsed": false
   }
  },
  {
   "cell_type": "code",
   "execution_count": 10,
   "outputs": [],
   "source": [
    "attack_chain = canon.chain[canon_attack_offset:]\n",
    "canon_tx = []\n",
    "attack_tx = []\n",
    "orphan_tx = []\n",
    "\n",
    "for block in canon.chain:\n",
    "    for tx in block.transactions:\n",
    "        canon_tx.append(Transaction(tx, block))\n",
    "for block in attack_chain:\n",
    "    for tx in block.transactions:\n",
    "        attack_tx.append(Transaction(tx, block))\n",
    "for block in orphan.chain[attack_actual_start_offset:]:\n",
    "    for tx in block.transactions:\n",
    "        orphan_tx.append(Transaction(tx, block))\n"
   ],
   "metadata": {
    "collapsed": false,
    "pycharm": {
     "name": "#%%\n"
    }
   }
  },
  {
   "cell_type": "markdown",
   "source": [
    "### How do you determine whether one transaction is double spending another?\n",
    "\n",
    "When a reorganization occurs, all orphaned transactions get sent back to the network.\n",
    "An attacker can block an orphaned transaction from completing by making it invalid.\n",
    "\n",
    "The following conditions can invalidate an otherwise valid transaction:\n",
    "\n",
    "* The transaction comes from an address that has already sent a transaction with the same nonce or higher.\n",
    "This feature normally blocks the same transaction from accidentally running twice.\n",
    "* The transaction comes from an address that doesn't have a high enough balance to cover the transaction.\n",
    "(By using a block explorer, I was able to confirm that the attacker's double spends emptied the accounts since the\n",
    "dataset doesn't show address balances.)\n",
    "\n",
    "Any transaction in the attack chain where the following conditions are satisfied by a transaction in the orphaned chain\n",
    "indicates a double spend attack:\n",
    "\n",
    "* the tx_from address matches\n",
    "* the nonce matches\n",
    "* the tx_to address does not match\n",
    "\n",
    "Additionally, any instance of the above where the attack transaction's value is less than the orphaned transaction value\n",
    "may be spent across multiple transactions. I need to check for more orphaned transactions that spend from that address."
   ],
   "metadata": {
    "collapsed": false,
    "pycharm": {
     "name": "#%% md\n"
    }
   }
  },
  {
   "cell_type": "code",
   "execution_count": 11,
   "outputs": [
    {
     "name": "stdout",
     "output_type": "stream",
     "text": [
      "There are 7 transactions that double spend orphaned transactions.\n"
     ]
    }
   ],
   "source": [
    "double_spends = []\n",
    "for txa in attack_tx:\n",
    "    for txo in orphan_tx:\n",
    "        if txo.tx_from == txa.tx_from and txo.nonce == txa.nonce and txo.tx_to != txa.tx_to:\n",
    "            double_spends.append({'attack': txa, 'orphan': txo})\n",
    "num_double_spends = len(double_spends)\n",
    "\n",
    "potential_multi_transaction_attacks = []\n",
    "for txx in double_spends:\n",
    "    if txx['attack'].value != txx['orphan'].value:\n",
    "        potential_multi_transaction_attacks.append(txx)\n",
    "\n",
    "over_nonce_spends = []\n",
    "for txm in potential_multi_transaction_attacks:\n",
    "    for txo in orphan_tx:\n",
    "        if txo.tx_from == txm['attack'].tx_from and txo.nonce > txm['attack'].nonce:\n",
    "            over_nonce_spends.append(txo)\n",
    "\n",
    "print('There are %s transactions that double spend orphaned transactions.' % num_double_spends)\n"
   ],
   "metadata": {
    "collapsed": false,
    "pycharm": {
     "name": "#%%\n"
    }
   }
  },
  {
   "cell_type": "markdown",
   "source": [
    "### What addresses are controlled by the attacker?\n",
    "\n",
    "The attacker controls the tx_from and tx_to addresses of all double spending transactions on the attack chain."
   ],
   "metadata": {
    "collapsed": false,
    "pycharm": {
     "name": "#%% md\n"
    }
   }
  },
  {
   "cell_type": "code",
   "execution_count": 12,
   "outputs": [
    {
     "name": "stdout",
     "output_type": "stream",
     "text": [
      "The attacker controls the following addresses:\n",
      "Attacking addresses:\n",
      "0xa56cfaef495a45f17f44fd0b2d85e0fe63b9ba7d\n",
      "0x4b77501d21c3c3488c60fcea640b590be321bc5f\n",
      "0xc39241a847c550bbef4489653b1006b980709e4b\n",
      "0x806a915693c2f83883f5be2c6bb2d7174033af4a\n",
      "0x7946fc0611fe2e22f90ab3d196605890ae2096ac\n",
      "0xe1827a7ce46bf5977fe5a38c94f1b2d1ce751981\n",
      "0x1fb24ec5da95f0438d8b16e05285455c8079e1b3\n",
      "Exfiltration addresses:\n",
      "0x9bcf1d5facbb67a35fb84dd7eafd25f4486cb265\n",
      "0x8bc7cc58c3f5449e1840f4267ca214b3a9b629f8\n",
      "0xc1ae4099a747466ec1c0cddb6e772e1e6896cc6b\n",
      "0x1b0176245209a38c3ac7a8263039256a39cd1263\n",
      "0x3c821b3a28b0aa9690b864c2de0b4224a903d79b\n"
     ]
    }
   ],
   "source": [
    "double_spending_txs = []\n",
    "for tx in double_spends:\n",
    "    double_spending_txs.append(tx['attack'])\n",
    "\n",
    "attacker_addresses = []\n",
    "exfil_addresses = []\n",
    "for tx in double_spending_txs:\n",
    "    if tx.tx_from not in attacker_addresses:\n",
    "        attacker_addresses.append(tx.tx_from)\n",
    "    if tx.tx_to not in exfil_addresses:\n",
    "        exfil_addresses.append(tx.tx_to)\n",
    "\n",
    "print('The attacker controls the following addresses:')\n",
    "print('Attacking addresses:')\n",
    "for address in attacker_addresses:\n",
    "    print(address)\n",
    "print('Exfiltration addresses:')\n",
    "for address in exfil_addresses:\n",
    "    print(address)"
   ],
   "metadata": {
    "collapsed": false,
    "pycharm": {
     "name": "#%%\n"
    }
   }
  },
  {
   "cell_type": "markdown",
   "source": [
    "### How many orphaned transactions were double spent? What are their Transaction IDs(TXIDs)? What is their total value? What blocks were they in?"
   ],
   "metadata": {
    "collapsed": false,
    "pycharm": {
     "name": "#%% md\n"
    }
   }
  },
  {
   "cell_type": "code",
   "source": [
    "double_spent_orphan_txs = []\n",
    "for tx in double_spends:\n",
    "    double_spent_orphan_txs.append(tx['orphan'])\n",
    "\n",
    "for tx in over_nonce_spends:\n",
    "    double_spent_orphan_txs.append(tx)\n",
    "\n",
    "total_value = 0\n",
    "for tx in double_spent_orphan_txs:\n",
    "    total_value += tx.value\n",
    "\n",
    "print('%s orphaned transactions were double spent.\\n' % len(double_spent_orphan_txs))\n",
    "print(\"{:<66} {:<17} {:<8}\".format('Transaction ID','Value','Block'))\n",
    "for tx in double_spent_orphan_txs:\n",
    "    print(\"{:<66} {:<17} {:<8}\".format(tx.txid, tx.value, str(tx.block)))\n",
    "\n",
    "print('\\nThe attackers double spent %s ETC' % total_value)"
   ],
   "metadata": {
    "collapsed": false,
    "pycharm": {
     "name": "#%%\n"
    }
   },
   "execution_count": 13,
   "outputs": [
    {
     "name": "stdout",
     "output_type": "stream",
     "text": [
      "9 orphaned transactions were double spent.\n",
      "\n",
      "Transaction ID                                                     Value             Block   \n",
      "0xdd6dc3537c72bcc26f7ca970eaedb1497df7e541f3c5338f54e5ed8466eec990 10.0              10935682\n",
      "0x658ffdf30a859f437422ee0cd4b4182021cc67c9c412b115b10ad820157ac9a4 97709.99979000002 10936604\n",
      "0x0452e4c2ae7fbc38f90ddabd767b4778c7623633b795385f72f7f9bda0900889 84488.0           10937084\n",
      "0x8e099dfd6e1044785f7b0ac3dd2f0fccf3a2ae4f876dfda19f930b919b377e48 7908.000000000001 10937561\n",
      "0xea89573b8c0d446f7594af2cb5b5d33966d5d301ea8190faaa7220bafd70955a 34056.0           10937576\n",
      "0xfe177fff4e37a5d0e275ecab26f24f12c55875a6451914bd5f5f59e5906aca63 73402.0           10937572\n",
      "0x148681d845854c2d2b4ffc2105d21d3a6bb1585e82e5b94d03776fe912719f5a 13794.0           10937587\n",
      "0x1bf98fd21c22fb99a7ac797a20ce8ad939cd78c61b8d55cd157828945015080a 82120.0           10935694\n",
      "0xaf56ca61d94fe859435e91e40e65ddb73383c60aada22681f65ad27f1b15f514 71959.99829270001 10936006\n",
      "\n",
      "The attackers double spent 465447.99808270007 ETC\n"
     ]
    }
   ]
  },
  {
   "cell_type": "markdown",
   "source": [
    "### Which transactions did the double spending of the orphaned transactions provided above? Is it the same number of transactions? Why or why not?"
   ],
   "metadata": {
    "collapsed": false
   }
  },
  {
   "cell_type": "code",
   "execution_count": 14,
   "outputs": [
    {
     "name": "stdout",
     "output_type": "stream",
     "text": [
      "Transactions that double spend orphaned transactions:\n",
      "Transaction ID                                                     Value             Block   \n",
      "0x2e287be99687b57cfe678e4d058448b5d40576e7240e8003bea1851061b49860 154088.0          10935680\n",
      "0x7ab164f8ba72d8054ded132d8f6983f8914dd3f9f7a5592b48a521b397f19d88 97708.0           10936067\n",
      "0x3ec37e8d3b52efb45e4e1c8a6962b72452891e83391566b11698d7b58f316ba1 84488.0           10936157\n",
      "0xea152319f7614efb68d4aaec998607e28012aed84160d69d91eb41767a0dfc82 7908.000000000001 10936264\n",
      "0x90a8d2013b1d2ae03a09b4ba70243ae034e1345949eaed3b3ad27f8e4d30b384 34056.0           10936284\n",
      "0xa07ecf134ac0a663aa13612e91229e4b75f1719142a3a5048da30fa52a91379e 73402.0           10936284\n",
      "0xe572ae9eb28b0257355236fd6872753eadcb0747557fe98d59cf1e8d002492be 13794.0           10936286\n",
      "\n",
      " Number of double spending transactions matches spent transactions: False\n"
     ]
    }
   ],
   "source": [
    "print('Transactions that double spend orphaned transactions:')\n",
    "print(\"{:<66} {:<17} {:<8}\".format('Transaction ID','Value','Block'))\n",
    "for tx in double_spending_txs:\n",
    "    print(\"{:<66} {:<17} {:<8}\".format(tx.txid, tx.value, str(tx.block)))\n",
    "\n",
    "double_spend_tx_amount_check = len(double_spent_orphan_txs) == len(double_spending_txs)\n",
    "print('\\n Number of double spending transactions matches spent transactions: %s' % double_spend_tx_amount_check)"
   ],
   "metadata": {
    "collapsed": false,
    "pycharm": {
     "name": "#%%\n"
    }
   }
  },
  {
   "cell_type": "markdown",
   "source": [
    "It is not the same number of transactions because the attackers double spent 3 orphaned transactions with a single\n",
    "transaction from address 0xa56cfaef495a45f17f44fd0b2d85e0fe63b9ba7d.\n",
    "(I had to confirm with a block explorer that the balance was empty for this one.)"
   ],
   "metadata": {
    "collapsed": false,
    "pycharm": {
     "name": "#%% md\n"
    }
   }
  },
  {
   "cell_type": "markdown",
   "source": [
    "### What number of confirmations would an exchange have needed in order to be completely safe from this attack? Why?\n",
    "\n",
    "The number of confirmations that would be needed to be safe can be calculated with the first double spent transaction's\n",
    "block height and the last orphaned block's height."
   ],
   "metadata": {
    "collapsed": false
   }
  },
  {
   "cell_type": "code",
   "execution_count": 15,
   "outputs": [
    {
     "name": "stdout",
     "output_type": "stream",
     "text": [
      "To be completely safe from this attack, an exchange would need 4184 confirmations.\n"
     ]
    }
   ],
   "source": [
    "double_spent_by_height = sorted(double_spent_orphan_txs, key=lambda l: l.block.block_height)\n",
    "num_confirmations_safe = orphan.chain[-1].block_height - double_spent_by_height[0].block.block_height\n",
    "print('To be completely safe from this attack, an exchange would need %s confirmations.' % num_confirmations_safe)"
   ],
   "metadata": {
    "collapsed": false,
    "pycharm": {
     "name": "#%%\n"
    }
   }
  },
  {
   "cell_type": "markdown",
   "source": [
    "## Recommendations for Coinbase\n",
    "\n",
    "### How does this affect Coinbase?\n",
    "\n",
    "1. Coinbase could be a potential target of future attacks if their confirmation requirement is low enough on smaller\n",
    "blockchains.\n",
    "\n",
    "2. Any holdings Coinbase has in vulnerable coins is at risk if another exchange is the target of a future attack.\n",
    "\n",
    "### What steps should Coinbase take?\n",
    "\n",
    "1. Coinbase should raise the number of confirmations for all coins and tokens that run on blockchains with a low hashrate.\n",
    "Ideally this number should be at least several weeks, due to the availability of rented hashpower.\n",
    "\n",
    "2. Coinbase should share any suspicions of double spend activity with other exchanges to lower the potential value lost\n",
    "due to a post-attack price drop.\n",
    "\n",
    "### What information or events should Coinbase engineers attempt to observe going forward based on this analysis?\n",
    "This attack only took 15 hours to steal 465448 ETC, which on that date was \\\\$3,351,225 at \\\\$7.20 per ETC.\n",
    "Assuming the attacker rented hashpower from a 3rd party provider, i.e. NiceHash, Coinbase should flag any deposits that\n",
    "are larger than the cost to rent the entire hashrate of that network for more than 24 hours.\n",
    "\n",
    "Coinbase should also monitor larger blockchains experiencing a sudden drop in hashrate, as that could signal an attack\n",
    "brewing for a smaller chain, especially those that are mined primarily on GPUs instead of ASICs."
   ],
   "metadata": {
    "collapsed": false,
    "pycharm": {
     "name": "#%% md\n"
    }
   }
  }
 ],
 "metadata": {
  "kernelspec": {
   "display_name": "Python 3",
   "language": "python",
   "name": "python3"
  },
  "language_info": {
   "codemirror_mode": {
    "name": "ipython",
    "version": 3
   },
   "file_extension": ".py",
   "mimetype": "text/x-python",
   "name": "python",
   "nbconvert_exporter": "python",
   "pygments_lexer": "ipython3",
   "version": "3.9.2"
  }
 },
 "nbformat": 4,
 "nbformat_minor": 1
}